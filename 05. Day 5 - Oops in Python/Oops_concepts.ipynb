{
 "cells": [
  {
   "cell_type": "markdown",
   "id": "e0a07263-9962-4dda-8068-0d294d1ad18a",
   "metadata": {},
   "source": [
    "# OOPS CONCEPTS IN PYTHON\n",
    "---\n",
    "## Classes, Constructors and Methods"
   ]
  },
  {
   "cell_type": "code",
   "execution_count": 1,
   "id": "833c03d4-d23d-43e4-9f81-5d6ac1d6440d",
   "metadata": {},
   "outputs": [
    {
     "name": "stdout",
     "output_type": "stream",
     "text": [
      "adding new student in db..\n",
      "Shreeja 97\n",
      "adding new student in db..\n",
      "Abcd 96\n",
      "XYZ School\n"
     ]
    }
   ],
   "source": [
    "class Student:\n",
    "     school_name = \"XYZ School\"\n",
    "     name = \"Anonymous\" #class attr\n",
    "\n",
    "     #default constructors:\n",
    "     def __init__(self):\n",
    "          pass\n",
    "\n",
    "    #parameterized constructors\n",
    "     def __init__(self,name, marks):\n",
    "          self.name = name #obj attr > class attr\n",
    "          self.marks = marks\n",
    "          print(\"adding new student in db..\")\n",
    "\n",
    "s1 = Student(\"Shreeja\", 97)\n",
    "print(s1.name, s1.marks)\n",
    "\n",
    "s2 = Student(\"Abcd\", 96)\n",
    "print(s2.name, s2.marks)\n",
    "print(Student.school_name)\n"
   ]
  },
  {
   "cell_type": "markdown",
   "id": "406a2e0c-c144-4195-a39f-e8bc3a6ee641",
   "metadata": {},
   "source": [
    "# Static Methods"
   ]
  },
  {
   "cell_type": "code",
   "execution_count": 2,
   "id": "4b4c32ca-e026-409e-813f-afcbe814ea0f",
   "metadata": {},
   "outputs": [
    {
     "name": "stdout",
     "output_type": "stream",
     "text": [
      "hi Shreeja your avg score is:  98.0\n",
      "hi Abcd your avg score is:  98.0\n"
     ]
    }
   ],
   "source": [
    "class Student:\n",
    "    def __init__(self, name, marks):\n",
    "        self.name = name\n",
    "        self.marks = marks\n",
    "    \n",
    "    @staticmethod      #decorator\n",
    "    def hello():\n",
    "        print(\"hello\")\n",
    "\n",
    "    def get_avg(self):\n",
    "        sum = 0\n",
    "        for val in self.marks:\n",
    "            sum += val\n",
    "        print(\"hi\", self.name, \"your avg score is: \", sum/3)\n",
    "\n",
    "s1 = Student(\"Shreeja\" , [99, 98, 97])\n",
    "s1.get_avg()\n",
    "\n",
    "s1.name = \"Abcd\"\n",
    "s1.get_avg()"
   ]
  },
  {
   "cell_type": "markdown",
   "id": "e66e9a40-3d78-484d-a547-0a148f57c583",
   "metadata": {},
   "source": [
    "# Abstraction and Encapsulation"
   ]
  },
  {
   "cell_type": "code",
   "execution_count": 3,
   "id": "7cb5ab43-99bf-4583-9d56-c9eaba0d0ff3",
   "metadata": {},
   "outputs": [
    {
     "name": "stdout",
     "output_type": "stream",
     "text": [
      "car started..\n"
     ]
    }
   ],
   "source": [
    "class Car:\n",
    "    def __init__(self):\n",
    "        self.acc = False\n",
    "        self.brk = False\n",
    "        self.clutch = False\n",
    "\n",
    "    def start(self):\n",
    "        self.clutch = True\n",
    "        self.acc = True\n",
    "        print(\"car started..\")\n",
    "\n",
    "car1 = Car()\n",
    "car1.start()"
   ]
  },
  {
   "cell_type": "code",
   "execution_count": null,
   "id": "655cf700-5898-4347-8575-cc25d7702fc5",
   "metadata": {},
   "outputs": [],
   "source": []
  }
 ],
 "metadata": {
  "kernelspec": {
   "display_name": "Python 3 (ipykernel)",
   "language": "python",
   "name": "python3"
  },
  "language_info": {
   "codemirror_mode": {
    "name": "ipython",
    "version": 3
   },
   "file_extension": ".py",
   "mimetype": "text/x-python",
   "name": "python",
   "nbconvert_exporter": "python",
   "pygments_lexer": "ipython3",
   "version": "3.11.7"
  }
 },
 "nbformat": 4,
 "nbformat_minor": 5
}
