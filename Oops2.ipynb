{
 "cells": [
  {
   "cell_type": "markdown",
   "id": "2d1aa7ec-6b4f-491a-a653-c912414911f0",
   "metadata": {},
   "source": [
    "# OOPS CONCEPT IN PYTHON\n",
    "---\n",
    "## Del Class"
   ]
  },
  {
   "cell_type": "code",
   "execution_count": 1,
   "id": "19283d52-90c0-4699-9dc7-b4fd9572bdc3",
   "metadata": {},
   "outputs": [
    {
     "name": "stdout",
     "output_type": "stream",
     "text": [
      "Shreeja\n"
     ]
    },
    {
     "ename": "AttributeError",
     "evalue": "'Student' object has no attribute 'name'",
     "output_type": "error",
     "traceback": [
      "\u001b[1;31m---------------------------------------------------------------------------\u001b[0m",
      "\u001b[1;31mAttributeError\u001b[0m                            Traceback (most recent call last)",
      "Cell \u001b[1;32mIn[1], line 9\u001b[0m\n\u001b[0;32m      7\u001b[0m \u001b[38;5;28mprint\u001b[39m(s1\u001b[38;5;241m.\u001b[39mname)\n\u001b[0;32m      8\u001b[0m \u001b[38;5;28;01mdel\u001b[39;00m s1\u001b[38;5;241m.\u001b[39mname\n\u001b[1;32m----> 9\u001b[0m \u001b[38;5;28mprint\u001b[39m(s1\u001b[38;5;241m.\u001b[39mname)\n",
      "\u001b[1;31mAttributeError\u001b[0m: 'Student' object has no attribute 'name'"
     ]
    }
   ],
   "source": [
    "#del keyword\n",
    "class Student:\n",
    "    def __init__(self, name):\n",
    "        self.name = name\n",
    "        \n",
    "s1 = Student(\"Shreeja\")\n",
    "print(s1.name)\n",
    "del s1.name\n",
    "print(s1.name)    "
   ]
  },
  {
   "cell_type": "markdown",
   "id": "1564bbc4-f218-4038-a11b-e65fd9c4e166",
   "metadata": {},
   "source": [
    "## Private Attribute"
   ]
  },
  {
   "cell_type": "code",
   "execution_count": 2,
   "id": "d42ad68d-c28d-47aa-acea-6ad1524b881c",
   "metadata": {},
   "outputs": [
    {
     "name": "stdout",
     "output_type": "stream",
     "text": [
      "12345\n",
      "abcde\n",
      "None\n"
     ]
    }
   ],
   "source": [
    "class Account:\n",
    "    def __init__(self, acc_no, acc_pass):\n",
    "        self.acc_no = acc_no\n",
    "        self.__acc_pass = acc_pass       #private attribute\n",
    "\n",
    "    def reset_pass(self):\n",
    "        print(self.__acc_pass)\n",
    "\n",
    "\n",
    "acc1 = Account(\"12345\", \"abcde\")\n",
    "\n",
    "print(acc1.acc_no)\n",
    "print(acc1.reset_pass())\n"
   ]
  },
  {
   "cell_type": "markdown",
   "id": "d334a0ef-80cf-4166-8f34-479516f5f393",
   "metadata": {},
   "source": [
    "## Inheritance"
   ]
  },
  {
   "cell_type": "code",
   "execution_count": 4,
   "id": "09ddd534-734d-41bd-b9f5-64d2ba13cd0b",
   "metadata": {},
   "outputs": [
    {
     "name": "stdout",
     "output_type": "stream",
     "text": [
      "Shreeja\n",
      "123345\n",
      "My name is Shreeja\n",
      "IdNumber: 123345\n",
      "Post: Intern\n"
     ]
    }
   ],
   "source": [
    "# parent class \n",
    "class Person(object): \n",
    "  \n",
    "    \n",
    "    def __init__(self, name, idnumber): \n",
    "        self.name = name \n",
    "        self.idnumber = idnumber \n",
    "  \n",
    "    def display(self): \n",
    "        print(self.name) \n",
    "        print(self.idnumber) \n",
    "          \n",
    "    def details(self): \n",
    "        print(\"My name is {}\".format(self.name)) \n",
    "        print(\"IdNumber: {}\".format(self.idnumber)) \n",
    "      \n",
    "# child class \n",
    "class Employee(Person): \n",
    "    def __init__(self, name, idnumber, salary, post): \n",
    "        self.salary = salary \n",
    "        self.post = post \n",
    "  \n",
    "        \n",
    "        Person.__init__(self, name, idnumber) \n",
    "          \n",
    "    def details(self): \n",
    "        print(\"My name is {}\".format(self.name)) \n",
    "        print(\"IdNumber: {}\".format(self.idnumber)) \n",
    "        print(\"Post: {}\".format(self.post)) \n",
    "  \n",
    "  \n",
    "a = Employee('Shreeja', 123345, 400000, \"Intern\") \n",
    "  \n",
    "\n",
    "a.display() \n",
    "a.details()\n"
   ]
  },
  {
   "cell_type": "markdown",
   "id": "3c38e803-571f-4c24-886e-e828bdd9dd38",
   "metadata": {},
   "source": [
    "## Polymorphism"
   ]
  },
  {
   "cell_type": "code",
   "execution_count": 5,
   "id": "d15c9795-b4f6-43a9-8171-ac2e4eaaf8ef",
   "metadata": {},
   "outputs": [
    {
     "name": "stdout",
     "output_type": "stream",
     "text": [
      "There are many types of birds.\n",
      "Most of the birds can fly but some cannot.\n",
      "There are many types of birds.\n",
      "Sparrows can fly.\n",
      "There are many types of birds.\n",
      "Ostriches cannot fly.\n"
     ]
    }
   ],
   "source": [
    "class Bird: \n",
    "    \n",
    "    def intro(self): \n",
    "        print(\"There are many types of birds.\") \n",
    "  \n",
    "    def flight(self): \n",
    "        print(\"Most of the birds can fly but some cannot.\") \n",
    "  \n",
    "class sparrow(Bird): \n",
    "    \n",
    "    def flight(self): \n",
    "        print(\"Sparrows can fly.\") \n",
    "  \n",
    "class ostrich(Bird): \n",
    "  \n",
    "    def flight(self): \n",
    "        print(\"Ostriches cannot fly.\") \n",
    "  \n",
    "obj_bird = Bird() \n",
    "obj_spr = sparrow() \n",
    "obj_ost = ostrich() \n",
    "  \n",
    "obj_bird.intro() \n",
    "obj_bird.flight() \n",
    "  \n",
    "obj_spr.intro() \n",
    "obj_spr.flight() \n",
    "  \n",
    "obj_ost.intro() \n",
    "obj_ost.flight()"
   ]
  },
  {
   "cell_type": "code",
   "execution_count": null,
   "id": "1008cfc8-3e4f-4f09-bd48-5bff8712a110",
   "metadata": {},
   "outputs": [],
   "source": []
  }
 ],
 "metadata": {
  "kernelspec": {
   "display_name": "Python 3 (ipykernel)",
   "language": "python",
   "name": "python3"
  },
  "language_info": {
   "codemirror_mode": {
    "name": "ipython",
    "version": 3
   },
   "file_extension": ".py",
   "mimetype": "text/x-python",
   "name": "python",
   "nbconvert_exporter": "python",
   "pygments_lexer": "ipython3",
   "version": "3.11.7"
  }
 },
 "nbformat": 4,
 "nbformat_minor": 5
}
