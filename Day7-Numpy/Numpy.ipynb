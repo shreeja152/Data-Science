{
 "cells": [
  {
   "cell_type": "markdown",
   "id": "4810cf5d-453d-421c-ac6d-fc056d9167ae",
   "metadata": {},
   "source": [
    "# Numoy In Python"
   ]
  },
  {
   "cell_type": "code",
   "execution_count": 1,
   "id": "afdf091c-c878-4b13-9a4c-2fd32a3788d4",
   "metadata": {},
   "outputs": [],
   "source": [
    "import numpy as np"
   ]
  },
  {
   "cell_type": "code",
   "execution_count": 2,
   "id": "dcdfb161-9baf-4a0f-b2a4-cc53368042aa",
   "metadata": {},
   "outputs": [],
   "source": [
    "myarr = np.array([[3,6,32,7]], np.int64)"
   ]
  },
  {
   "cell_type": "code",
   "execution_count": 3,
   "id": "85245328-48e1-4f6b-b8f4-8ec3db5e3d5f",
   "metadata": {},
   "outputs": [
    {
     "data": {
      "text/plain": [
       "array([ 3,  6, 32,  7], dtype=int64)"
      ]
     },
     "execution_count": 3,
     "metadata": {},
     "output_type": "execute_result"
    }
   ],
   "source": [
    "myarr[0] "
   ]
  },
  {
   "cell_type": "code",
   "execution_count": 4,
   "id": "ea3fa042-f918-4a01-af08-aa5dfe81cb5b",
   "metadata": {},
   "outputs": [
    {
     "data": {
      "text/plain": [
       "(1, 4)"
      ]
     },
     "execution_count": 4,
     "metadata": {},
     "output_type": "execute_result"
    }
   ],
   "source": [
    "myarr.shape"
   ]
  },
  {
   "cell_type": "code",
   "execution_count": 5,
   "id": "85340928-e59e-4295-88a5-7b342ee3497a",
   "metadata": {},
   "outputs": [
    {
     "data": {
      "text/plain": [
       "dtype('int64')"
      ]
     },
     "execution_count": 5,
     "metadata": {},
     "output_type": "execute_result"
    }
   ],
   "source": [
    "myarr.dtype"
   ]
  },
  {
   "cell_type": "code",
   "execution_count": 7,
   "id": "210e4b83-b160-4f54-a5ac-1ec5cd81fe6f",
   "metadata": {},
   "outputs": [],
   "source": [
    "myarr[0,1] = 45"
   ]
  },
  {
   "cell_type": "code",
   "execution_count": 21,
   "id": "44bf20e1-fe24-43d4-992f-81a4ad2ac109",
   "metadata": {},
   "outputs": [
    {
     "data": {
      "text/plain": [
       "array([[ 3, 45, 32,  7]], dtype=int64)"
      ]
     },
     "execution_count": 21,
     "metadata": {},
     "output_type": "execute_result"
    }
   ],
   "source": [
    "myarr"
   ]
  },
  {
   "cell_type": "markdown",
   "id": "ca133d28-2fd9-46e2-a39b-970a9d4df8e8",
   "metadata": {},
   "source": [
    "---"
   ]
  },
  {
   "cell_type": "markdown",
   "id": "6c5db82a-75a3-4a26-b408-30a72edf04c4",
   "metadata": {},
   "source": [
    "## Array creation: Conversion from other Python Structured"
   ]
  },
  {
   "cell_type": "markdown",
   "id": "e3cbe04e-0104-4041-9a18-23be24e4e57c",
   "metadata": {},
   "source": [
    "#### Using Lists "
   ]
  },
  {
   "cell_type": "code",
   "execution_count": 9,
   "id": "22d8764c-d0ca-4984-bed9-8ed60d9dcbda",
   "metadata": {},
   "outputs": [],
   "source": [
    "listarray = np.array([[1,2,3],[4,5,6],[0,3,1]])"
   ]
  },
  {
   "cell_type": "code",
   "execution_count": 10,
   "id": "02b86ec0-aaf5-4081-be9c-ddfe2073d33c",
   "metadata": {},
   "outputs": [
    {
     "data": {
      "text/plain": [
       "array([[1, 2, 3],\n",
       "       [4, 5, 6],\n",
       "       [0, 3, 1]])"
      ]
     },
     "execution_count": 10,
     "metadata": {},
     "output_type": "execute_result"
    }
   ],
   "source": [
    "listarray"
   ]
  },
  {
   "cell_type": "markdown",
   "id": "9ae2c4aa-5750-4516-a917-d77c442ef0d9",
   "metadata": {},
   "source": [
    "#### Adding a dictionary"
   ]
  },
  {
   "cell_type": "code",
   "execution_count": 12,
   "id": "95de48dd-e1b4-426b-8c7f-b5e0dd415acd",
   "metadata": {},
   "outputs": [
    {
     "data": {
      "text/plain": [
       "array({34, 23}, dtype=object)"
      ]
     },
     "execution_count": 12,
     "metadata": {},
     "output_type": "execute_result"
    }
   ],
   "source": [
    "np.array({34,23,23})"
   ]
  },
  {
   "cell_type": "markdown",
   "id": "96cfea8c-1f2c-4626-8692-d80446895163",
   "metadata": {},
   "source": [
    "---"
   ]
  },
  {
   "cell_type": "markdown",
   "id": "e3d2d8e8-5b20-4c1b-a8fb-937f60336ac2",
   "metadata": {},
   "source": [
    "## Intrinsic numpy array creation objects"
   ]
  },
  {
   "cell_type": "markdown",
   "id": "11f5ff5a-4af1-4f37-a510-9768d8a0fed3",
   "metadata": {},
   "source": [
    "#### Zeroes"
   ]
  },
  {
   "cell_type": "code",
   "execution_count": 13,
   "id": "2a573296-74e3-4a48-aaa4-eda025030e6f",
   "metadata": {},
   "outputs": [],
   "source": [
    "zeroes = np.zeros((2,5))"
   ]
  },
  {
   "cell_type": "code",
   "execution_count": 14,
   "id": "bd516885-0f76-4524-b013-04483ce8a0ec",
   "metadata": {},
   "outputs": [
    {
     "data": {
      "text/plain": [
       "array([[0., 0., 0., 0., 0.],\n",
       "       [0., 0., 0., 0., 0.]])"
      ]
     },
     "execution_count": 14,
     "metadata": {},
     "output_type": "execute_result"
    }
   ],
   "source": [
    "zeroes"
   ]
  },
  {
   "cell_type": "markdown",
   "id": "12a7daeb-0be5-4f18-8a52-9f74fc08c247",
   "metadata": {},
   "source": [
    "#### Range"
   ]
  },
  {
   "cell_type": "code",
   "execution_count": 17,
   "id": "dcef3396-1567-425b-8f0d-89e28230b366",
   "metadata": {},
   "outputs": [],
   "source": [
    "rng = np.arange(15)"
   ]
  },
  {
   "cell_type": "code",
   "execution_count": 19,
   "id": "fab08bb9-c8f1-4662-a596-138d1d092e61",
   "metadata": {},
   "outputs": [
    {
     "data": {
      "text/plain": [
       "array([ 0,  1,  2,  3,  4,  5,  6,  7,  8,  9, 10, 11, 12, 13, 14])"
      ]
     },
     "execution_count": 19,
     "metadata": {},
     "output_type": "execute_result"
    }
   ],
   "source": [
    "rng"
   ]
  },
  {
   "cell_type": "markdown",
   "id": "a01fc901-90dd-4281-a2bd-d68a34fa9cf3",
   "metadata": {},
   "source": [
    "#### Linspace"
   ]
  },
  {
   "cell_type": "code",
   "execution_count": 27,
   "id": "69aec9ce-9fd9-4744-a981-e4032cf862b9",
   "metadata": {},
   "outputs": [],
   "source": [
    "lspace = np.linspace(1,50,10)"
   ]
  },
  {
   "cell_type": "code",
   "execution_count": 28,
   "id": "7ffab29f-897e-4a34-8fee-495e5c8af12f",
   "metadata": {},
   "outputs": [
    {
     "data": {
      "text/plain": [
       "array([ 1.        ,  6.44444444, 11.88888889, 17.33333333, 22.77777778,\n",
       "       28.22222222, 33.66666667, 39.11111111, 44.55555556, 50.        ])"
      ]
     },
     "execution_count": 28,
     "metadata": {},
     "output_type": "execute_result"
    }
   ],
   "source": [
    "lspace"
   ]
  },
  {
   "cell_type": "markdown",
   "id": "792a2f67-82fd-4a32-838c-725c1f6043b1",
   "metadata": {},
   "source": [
    "#### Empty"
   ]
  },
  {
   "cell_type": "code",
   "execution_count": 29,
   "id": "eb23f9cb-9fa9-4a31-9c02-18707a2b9796",
   "metadata": {},
   "outputs": [],
   "source": [
    "emp = np.empty((4,6))"
   ]
  },
  {
   "cell_type": "code",
   "execution_count": 30,
   "id": "48d1364b-4163-4277-a0d7-adff9b4f65ca",
   "metadata": {},
   "outputs": [
    {
     "data": {
      "text/plain": [
       "array([[6.23042070e-307, 4.67296746e-307, 1.69121096e-306,\n",
       "        4.00542154e-307, 6.23045126e-307, 8.45593934e-307],\n",
       "       [7.56593017e-307, 1.11258854e-306, 1.11261502e-306,\n",
       "        1.42410839e-306, 7.56597770e-307, 6.23059726e-307],\n",
       "       [1.42419530e-306, 7.56602523e-307, 1.29061821e-306,\n",
       "        1.78020169e-306, 1.33511290e-306, 1.78019082e-306],\n",
       "       [8.45559303e-307, 9.45697982e-308, 1.33511562e-306,\n",
       "        8.90103560e-307, 1.42410974e-306, 3.23796840e-317]])"
      ]
     },
     "execution_count": 30,
     "metadata": {},
     "output_type": "execute_result"
    }
   ],
   "source": [
    "emp"
   ]
  },
  {
   "cell_type": "code",
   "execution_count": 31,
   "id": "e494b261-737d-4bea-96ad-19f0e60e0689",
   "metadata": {},
   "outputs": [],
   "source": [
    "emp_like = np.empty_like(lspace)"
   ]
  },
  {
   "cell_type": "code",
   "execution_count": 33,
   "id": "6c1dfba4-f3b1-488c-b0f3-cb882ff3f77a",
   "metadata": {},
   "outputs": [
    {
     "data": {
      "text/plain": [
       "<function empty_like at 0x00000178594DF930>"
      ]
     },
     "execution_count": 33,
     "metadata": {},
     "output_type": "execute_result"
    }
   ],
   "source": [
    "emp_like"
   ]
  },
  {
   "cell_type": "markdown",
   "id": "2b175204-8acb-44c4-b72b-5ac81eef5181",
   "metadata": {},
   "source": [
    "#### Identity matrix"
   ]
  },
  {
   "cell_type": "code",
   "execution_count": 34,
   "id": "71f57d61-9610-40f0-a615-194fc98df5e6",
   "metadata": {},
   "outputs": [],
   "source": [
    "ide = np.identity(45)"
   ]
  },
  {
   "cell_type": "code",
   "execution_count": 35,
   "id": "ab2e1349-fa5d-47e2-84fc-e1ace068fac8",
   "metadata": {},
   "outputs": [
    {
     "data": {
      "text/plain": [
       "array([[1., 0., 0., ..., 0., 0., 0.],\n",
       "       [0., 1., 0., ..., 0., 0., 0.],\n",
       "       [0., 0., 1., ..., 0., 0., 0.],\n",
       "       ...,\n",
       "       [0., 0., 0., ..., 1., 0., 0.],\n",
       "       [0., 0., 0., ..., 0., 1., 0.],\n",
       "       [0., 0., 0., ..., 0., 0., 1.]])"
      ]
     },
     "execution_count": 35,
     "metadata": {},
     "output_type": "execute_result"
    }
   ],
   "source": [
    "ide"
   ]
  },
  {
   "cell_type": "code",
   "execution_count": 36,
   "id": "f40bfb72-9256-4181-ad1d-b15948132f0e",
   "metadata": {},
   "outputs": [
    {
     "data": {
      "text/plain": [
       "(45, 45)"
      ]
     },
     "execution_count": 36,
     "metadata": {},
     "output_type": "execute_result"
    }
   ],
   "source": [
    "ide.shape"
   ]
  },
  {
   "cell_type": "code",
   "execution_count": null,
   "id": "ab80c44c-6f4b-4cd2-98eb-5d6551459393",
   "metadata": {},
   "outputs": [],
   "source": []
  }
 ],
 "metadata": {
  "kernelspec": {
   "display_name": "Python 3 (ipykernel)",
   "language": "python",
   "name": "python3"
  },
  "language_info": {
   "codemirror_mode": {
    "name": "ipython",
    "version": 3
   },
   "file_extension": ".py",
   "mimetype": "text/x-python",
   "name": "python",
   "nbconvert_exporter": "python",
   "pygments_lexer": "ipython3",
   "version": "3.11.7"
  }
 },
 "nbformat": 4,
 "nbformat_minor": 5
}
