{
 "cells": [
  {
   "cell_type": "markdown",
   "id": "7c20cb0c-e7a7-4085-a766-770538c97b8d",
   "metadata": {},
   "source": [
    "# Pandas in depth\n",
    "---\n",
    "Pandas is an open source data analysi library written in python. It leverages the power and speed to make data analysis and prepocessing easy for data scienctists. It provides rich and highly robust data operations"
   ]
  },
  {
   "cell_type": "markdown",
   "id": "17ddd784-b842-462d-9875-a360f4f8796b",
   "metadata": {},
   "source": [
    "#### Pandas has two types of data strcuture\n",
    "1. Series - Its a one dimensional array with indexes, it stores a single column or row of data in a Dataframe.\n",
    "2. Dataframe - Its a tabular spreadsheet like structure represnting rows each of which contains one or multiple columns"
   ]
  },
  {
   "cell_type": "code",
   "execution_count": 2,
   "id": "9ebfca5a-dd1b-4a99-b2f0-82ccb06d7aaf",
   "metadata": {},
   "outputs": [],
   "source": [
    "import numpy as np\n",
    "import pandas as pd"
   ]
  },
  {
   "cell_type": "code",
   "execution_count": 3,
   "id": "394ed304-6f29-4452-83bd-6f2f445c4f3c",
   "metadata": {},
   "outputs": [],
   "source": [
    "dict1 = {\n",
    "    \"name\": ['Shreeja', 'Abcd' ,'Efgh', 'Hijk'],\n",
    "    \"marks\": [98, 43, 54, 37],\n",
    "     \"city\": ['Pune', 'Mumbai', 'Dubai', 'Nyc']\n",
    "}"
   ]
  },
  {
   "cell_type": "code",
   "execution_count": 4,
   "id": "2ab4664f-63a7-4af6-996b-f5276c674ec4",
   "metadata": {},
   "outputs": [],
   "source": [
    "df = pd.DataFrame(dict1)"
   ]
  },
  {
   "cell_type": "code",
   "execution_count": 5,
   "id": "ad0a8dfc-c37d-4143-ab49-e957ae4ffa97",
   "metadata": {},
   "outputs": [
    {
     "data": {
      "text/html": [
       "<div>\n",
       "<style scoped>\n",
       "    .dataframe tbody tr th:only-of-type {\n",
       "        vertical-align: middle;\n",
       "    }\n",
       "\n",
       "    .dataframe tbody tr th {\n",
       "        vertical-align: top;\n",
       "    }\n",
       "\n",
       "    .dataframe thead th {\n",
       "        text-align: right;\n",
       "    }\n",
       "</style>\n",
       "<table border=\"1\" class=\"dataframe\">\n",
       "  <thead>\n",
       "    <tr style=\"text-align: right;\">\n",
       "      <th></th>\n",
       "      <th>name</th>\n",
       "      <th>marks</th>\n",
       "      <th>city</th>\n",
       "    </tr>\n",
       "  </thead>\n",
       "  <tbody>\n",
       "    <tr>\n",
       "      <th>0</th>\n",
       "      <td>Shreeja</td>\n",
       "      <td>98</td>\n",
       "      <td>Pune</td>\n",
       "    </tr>\n",
       "    <tr>\n",
       "      <th>1</th>\n",
       "      <td>Abcd</td>\n",
       "      <td>43</td>\n",
       "      <td>Mumbai</td>\n",
       "    </tr>\n",
       "    <tr>\n",
       "      <th>2</th>\n",
       "      <td>Efgh</td>\n",
       "      <td>54</td>\n",
       "      <td>Dubai</td>\n",
       "    </tr>\n",
       "    <tr>\n",
       "      <th>3</th>\n",
       "      <td>Hijk</td>\n",
       "      <td>37</td>\n",
       "      <td>Nyc</td>\n",
       "    </tr>\n",
       "  </tbody>\n",
       "</table>\n",
       "</div>"
      ],
      "text/plain": [
       "      name  marks    city\n",
       "0  Shreeja     98    Pune\n",
       "1     Abcd     43  Mumbai\n",
       "2     Efgh     54   Dubai\n",
       "3     Hijk     37     Nyc"
      ]
     },
     "execution_count": 5,
     "metadata": {},
     "output_type": "execute_result"
    }
   ],
   "source": [
    "df"
   ]
  },
  {
   "cell_type": "code",
   "execution_count": 6,
   "id": "acfe6231-d76e-426a-9b6d-06b408f73e2b",
   "metadata": {},
   "outputs": [],
   "source": [
    "df.to_csv('Friends.csv')"
   ]
  },
  {
   "cell_type": "code",
   "execution_count": 7,
   "id": "5e2243f6-1adc-4739-8d57-7ce18df7b001",
   "metadata": {},
   "outputs": [],
   "source": [
    "df.to_csv('Friends_index_false.csv' , index=False)"
   ]
  },
  {
   "cell_type": "code",
   "execution_count": 8,
   "id": "084d6dc7-bcd1-4de2-9037-2d9f6a26b7c8",
   "metadata": {},
   "outputs": [
    {
     "data": {
      "text/plain": [
       "<bound method NDFrame.head of       name  marks    city\n",
       "0  Shreeja     98    Pune\n",
       "1     Abcd     43  Mumbai\n",
       "2     Efgh     54   Dubai\n",
       "3     Hijk     37     Nyc>"
      ]
     },
     "execution_count": 8,
     "metadata": {},
     "output_type": "execute_result"
    }
   ],
   "source": [
    "df.head"
   ]
  },
  {
   "cell_type": "code",
   "execution_count": 9,
   "id": "c44c664f-d88f-44a3-9f0c-68925f853d00",
   "metadata": {},
   "outputs": [
    {
     "data": {
      "text/html": [
       "<div>\n",
       "<style scoped>\n",
       "    .dataframe tbody tr th:only-of-type {\n",
       "        vertical-align: middle;\n",
       "    }\n",
       "\n",
       "    .dataframe tbody tr th {\n",
       "        vertical-align: top;\n",
       "    }\n",
       "\n",
       "    .dataframe thead th {\n",
       "        text-align: right;\n",
       "    }\n",
       "</style>\n",
       "<table border=\"1\" class=\"dataframe\">\n",
       "  <thead>\n",
       "    <tr style=\"text-align: right;\">\n",
       "      <th></th>\n",
       "      <th>name</th>\n",
       "      <th>marks</th>\n",
       "      <th>city</th>\n",
       "    </tr>\n",
       "  </thead>\n",
       "  <tbody>\n",
       "    <tr>\n",
       "      <th>0</th>\n",
       "      <td>Shreeja</td>\n",
       "      <td>98</td>\n",
       "      <td>Pune</td>\n",
       "    </tr>\n",
       "    <tr>\n",
       "      <th>1</th>\n",
       "      <td>Abcd</td>\n",
       "      <td>43</td>\n",
       "      <td>Mumbai</td>\n",
       "    </tr>\n",
       "  </tbody>\n",
       "</table>\n",
       "</div>"
      ],
      "text/plain": [
       "      name  marks    city\n",
       "0  Shreeja     98    Pune\n",
       "1     Abcd     43  Mumbai"
      ]
     },
     "execution_count": 9,
     "metadata": {},
     "output_type": "execute_result"
    }
   ],
   "source": [
    "df.head(2)"
   ]
  },
  {
   "cell_type": "code",
   "execution_count": 10,
   "id": "49655913-ce82-4afb-b110-55bcc3c9f81d",
   "metadata": {},
   "outputs": [
    {
     "data": {
      "text/html": [
       "<div>\n",
       "<style scoped>\n",
       "    .dataframe tbody tr th:only-of-type {\n",
       "        vertical-align: middle;\n",
       "    }\n",
       "\n",
       "    .dataframe tbody tr th {\n",
       "        vertical-align: top;\n",
       "    }\n",
       "\n",
       "    .dataframe thead th {\n",
       "        text-align: right;\n",
       "    }\n",
       "</style>\n",
       "<table border=\"1\" class=\"dataframe\">\n",
       "  <thead>\n",
       "    <tr style=\"text-align: right;\">\n",
       "      <th></th>\n",
       "      <th>name</th>\n",
       "      <th>marks</th>\n",
       "      <th>city</th>\n",
       "    </tr>\n",
       "  </thead>\n",
       "  <tbody>\n",
       "    <tr>\n",
       "      <th>2</th>\n",
       "      <td>Efgh</td>\n",
       "      <td>54</td>\n",
       "      <td>Dubai</td>\n",
       "    </tr>\n",
       "    <tr>\n",
       "      <th>3</th>\n",
       "      <td>Hijk</td>\n",
       "      <td>37</td>\n",
       "      <td>Nyc</td>\n",
       "    </tr>\n",
       "  </tbody>\n",
       "</table>\n",
       "</div>"
      ],
      "text/plain": [
       "   name  marks   city\n",
       "2  Efgh     54  Dubai\n",
       "3  Hijk     37    Nyc"
      ]
     },
     "execution_count": 10,
     "metadata": {},
     "output_type": "execute_result"
    }
   ],
   "source": [
    "df.tail(2)"
   ]
  },
  {
   "cell_type": "code",
   "execution_count": 11,
   "id": "0e2b9711-8bcf-4c78-bb45-35b0a4be0c61",
   "metadata": {},
   "outputs": [
    {
     "data": {
      "text/html": [
       "<div>\n",
       "<style scoped>\n",
       "    .dataframe tbody tr th:only-of-type {\n",
       "        vertical-align: middle;\n",
       "    }\n",
       "\n",
       "    .dataframe tbody tr th {\n",
       "        vertical-align: top;\n",
       "    }\n",
       "\n",
       "    .dataframe thead th {\n",
       "        text-align: right;\n",
       "    }\n",
       "</style>\n",
       "<table border=\"1\" class=\"dataframe\">\n",
       "  <thead>\n",
       "    <tr style=\"text-align: right;\">\n",
       "      <th></th>\n",
       "      <th>marks</th>\n",
       "    </tr>\n",
       "  </thead>\n",
       "  <tbody>\n",
       "    <tr>\n",
       "      <th>count</th>\n",
       "      <td>4.000000</td>\n",
       "    </tr>\n",
       "    <tr>\n",
       "      <th>mean</th>\n",
       "      <td>58.000000</td>\n",
       "    </tr>\n",
       "    <tr>\n",
       "      <th>std</th>\n",
       "      <td>27.580186</td>\n",
       "    </tr>\n",
       "    <tr>\n",
       "      <th>min</th>\n",
       "      <td>37.000000</td>\n",
       "    </tr>\n",
       "    <tr>\n",
       "      <th>25%</th>\n",
       "      <td>41.500000</td>\n",
       "    </tr>\n",
       "    <tr>\n",
       "      <th>50%</th>\n",
       "      <td>48.500000</td>\n",
       "    </tr>\n",
       "    <tr>\n",
       "      <th>75%</th>\n",
       "      <td>65.000000</td>\n",
       "    </tr>\n",
       "    <tr>\n",
       "      <th>max</th>\n",
       "      <td>98.000000</td>\n",
       "    </tr>\n",
       "  </tbody>\n",
       "</table>\n",
       "</div>"
      ],
      "text/plain": [
       "           marks\n",
       "count   4.000000\n",
       "mean   58.000000\n",
       "std    27.580186\n",
       "min    37.000000\n",
       "25%    41.500000\n",
       "50%    48.500000\n",
       "75%    65.000000\n",
       "max    98.000000"
      ]
     },
     "execution_count": 11,
     "metadata": {},
     "output_type": "execute_result"
    }
   ],
   "source": [
    "df.describe()"
   ]
  },
  {
   "cell_type": "code",
   "execution_count": 27,
   "id": "18998c7d-3d6d-4dd3-a863-3d37a08eac1d",
   "metadata": {},
   "outputs": [],
   "source": [
    "shreeja = pd.read_csv('shreeja.csv')"
   ]
  },
  {
   "cell_type": "code",
   "execution_count": 28,
   "id": "4e2ed839-a71a-4dd0-be70-56f3d141f2fd",
   "metadata": {},
   "outputs": [
    {
     "data": {
      "text/html": [
       "<div>\n",
       "<style scoped>\n",
       "    .dataframe tbody tr th:only-of-type {\n",
       "        vertical-align: middle;\n",
       "    }\n",
       "\n",
       "    .dataframe tbody tr th {\n",
       "        vertical-align: top;\n",
       "    }\n",
       "\n",
       "    .dataframe thead th {\n",
       "        text-align: right;\n",
       "    }\n",
       "</style>\n",
       "<table border=\"1\" class=\"dataframe\">\n",
       "  <thead>\n",
       "    <tr style=\"text-align: right;\">\n",
       "      <th></th>\n",
       "      <th>Unnamed: 0</th>\n",
       "      <th>Number</th>\n",
       "      <th>name</th>\n",
       "      <th>marks</th>\n",
       "      <th>city</th>\n",
       "    </tr>\n",
       "  </thead>\n",
       "  <tbody>\n",
       "    <tr>\n",
       "      <th>0</th>\n",
       "      <td>0</td>\n",
       "      <td>0</td>\n",
       "      <td>Shreeja</td>\n",
       "      <td>87</td>\n",
       "      <td>Pune</td>\n",
       "    </tr>\n",
       "    <tr>\n",
       "      <th>1</th>\n",
       "      <td>1</td>\n",
       "      <td>1</td>\n",
       "      <td>Abcd</td>\n",
       "      <td>43</td>\n",
       "      <td>Mumbai</td>\n",
       "    </tr>\n",
       "    <tr>\n",
       "      <th>2</th>\n",
       "      <td>2</td>\n",
       "      <td>2</td>\n",
       "      <td>Efgh</td>\n",
       "      <td>54</td>\n",
       "      <td>Dubai</td>\n",
       "    </tr>\n",
       "    <tr>\n",
       "      <th>3</th>\n",
       "      <td>3</td>\n",
       "      <td>3</td>\n",
       "      <td>Hijk</td>\n",
       "      <td>37</td>\n",
       "      <td>Nyc</td>\n",
       "    </tr>\n",
       "  </tbody>\n",
       "</table>\n",
       "</div>"
      ],
      "text/plain": [
       "   Unnamed: 0  Number     name  marks    city\n",
       "0           0       0  Shreeja     87    Pune\n",
       "1           1       1     Abcd     43  Mumbai\n",
       "2           2       2     Efgh     54   Dubai\n",
       "3           3       3     Hijk     37     Nyc"
      ]
     },
     "execution_count": 28,
     "metadata": {},
     "output_type": "execute_result"
    }
   ],
   "source": [
    "shreeja"
   ]
  },
  {
   "cell_type": "code",
   "execution_count": 33,
   "id": "df77e4ec-b149-49ca-aeb7-f40a49b428d2",
   "metadata": {},
   "outputs": [
    {
     "name": "stderr",
     "output_type": "stream",
     "text": [
      "C:\\Users\\SURESH\\AppData\\Local\\Temp\\ipykernel_10260\\2758830902.py:1: SettingWithCopyWarning: \n",
      "A value is trying to be set on a copy of a slice from a DataFrame\n",
      "\n",
      "See the caveats in the documentation: https://pandas.pydata.org/pandas-docs/stable/user_guide/indexing.html#returning-a-view-versus-a-copy\n",
      "  shreeja['marks'][0] = 58\n",
      "C:\\Users\\SURESH\\AppData\\Local\\Temp\\ipykernel_10260\\2758830902.py:1: FutureWarning: Series.__setitem__ treating keys as positions is deprecated. In a future version, integer keys will always be treated as labels (consistent with DataFrame behavior). To set a value by position, use `ser.iloc[pos] = value`\n",
      "  shreeja['marks'][0] = 58\n"
     ]
    }
   ],
   "source": [
    "shreeja['marks'][0] = 58"
   ]
  },
  {
   "cell_type": "raw",
   "id": "7fd3ed98-444a-4df1-a1e9-6d69a4ca38e1",
   "metadata": {},
   "source": [
    "shreeja"
   ]
  },
  {
   "cell_type": "code",
   "execution_count": 34,
   "id": "7cf51476-35e8-41a3-bab9-1ca65885bb97",
   "metadata": {},
   "outputs": [],
   "source": [
    "shreeja.to_csv('shreeja.csv')"
   ]
  },
  {
   "cell_type": "code",
   "execution_count": 35,
   "id": "ff19e307-55e2-4b86-8fd7-e91714fc9f09",
   "metadata": {},
   "outputs": [],
   "source": [
    "shreeja.index = [ 'first', 'second', 'third' , 'fourth']"
   ]
  },
  {
   "cell_type": "code",
   "execution_count": 36,
   "id": "319fcdd0-db1b-4287-94f7-2425489052e9",
   "metadata": {},
   "outputs": [
    {
     "data": {
      "text/html": [
       "<div>\n",
       "<style scoped>\n",
       "    .dataframe tbody tr th:only-of-type {\n",
       "        vertical-align: middle;\n",
       "    }\n",
       "\n",
       "    .dataframe tbody tr th {\n",
       "        vertical-align: top;\n",
       "    }\n",
       "\n",
       "    .dataframe thead th {\n",
       "        text-align: right;\n",
       "    }\n",
       "</style>\n",
       "<table border=\"1\" class=\"dataframe\">\n",
       "  <thead>\n",
       "    <tr style=\"text-align: right;\">\n",
       "      <th></th>\n",
       "      <th>Unnamed: 0</th>\n",
       "      <th>Number</th>\n",
       "      <th>name</th>\n",
       "      <th>marks</th>\n",
       "      <th>city</th>\n",
       "    </tr>\n",
       "  </thead>\n",
       "  <tbody>\n",
       "    <tr>\n",
       "      <th>first</th>\n",
       "      <td>0</td>\n",
       "      <td>0</td>\n",
       "      <td>Shreeja</td>\n",
       "      <td>58</td>\n",
       "      <td>Pune</td>\n",
       "    </tr>\n",
       "    <tr>\n",
       "      <th>second</th>\n",
       "      <td>1</td>\n",
       "      <td>1</td>\n",
       "      <td>Abcd</td>\n",
       "      <td>43</td>\n",
       "      <td>Mumbai</td>\n",
       "    </tr>\n",
       "    <tr>\n",
       "      <th>third</th>\n",
       "      <td>2</td>\n",
       "      <td>2</td>\n",
       "      <td>Efgh</td>\n",
       "      <td>54</td>\n",
       "      <td>Dubai</td>\n",
       "    </tr>\n",
       "    <tr>\n",
       "      <th>fourth</th>\n",
       "      <td>3</td>\n",
       "      <td>3</td>\n",
       "      <td>Hijk</td>\n",
       "      <td>37</td>\n",
       "      <td>Nyc</td>\n",
       "    </tr>\n",
       "  </tbody>\n",
       "</table>\n",
       "</div>"
      ],
      "text/plain": [
       "        Unnamed: 0  Number     name  marks    city\n",
       "first            0       0  Shreeja     58    Pune\n",
       "second           1       1     Abcd     43  Mumbai\n",
       "third            2       2     Efgh     54   Dubai\n",
       "fourth           3       3     Hijk     37     Nyc"
      ]
     },
     "execution_count": 36,
     "metadata": {},
     "output_type": "execute_result"
    }
   ],
   "source": [
    "shreeja"
   ]
  },
  {
   "cell_type": "code",
   "execution_count": 37,
   "id": "98cb6412-40ec-4b8d-a283-4616e7fa3e9e",
   "metadata": {},
   "outputs": [],
   "source": [
    "shreeja.to_csv('shreeja.csv')"
   ]
  },
  {
   "cell_type": "code",
   "execution_count": 38,
   "id": "1573f6f9-8ca5-4627-8d75-8c761a5d1cd4",
   "metadata": {},
   "outputs": [],
   "source": [
    "ser = pd.Series(np.random.rand)"
   ]
  },
  {
   "cell_type": "code",
   "execution_count": 40,
   "id": "058f110d-da13-4953-ba99-cb32e9fd10a7",
   "metadata": {},
   "outputs": [
    {
     "data": {
      "text/plain": [
       "pandas.core.series.Series"
      ]
     },
     "execution_count": 40,
     "metadata": {},
     "output_type": "execute_result"
    }
   ],
   "source": [
    "type(ser)"
   ]
  },
  {
   "cell_type": "markdown",
   "id": "f97cee80-72e7-4ed1-a673-2c9f0731a2fa",
   "metadata": {},
   "source": [
    "### Making a new dataframe"
   ]
  },
  {
   "cell_type": "code",
   "execution_count": 42,
   "id": "688a613a-e481-423f-8aeb-f897aa6ccd57",
   "metadata": {},
   "outputs": [],
   "source": [
    "newdf = pd.DataFrame(np.random.rand(334,5), index=np.arange(334))"
   ]
  },
  {
   "cell_type": "code",
   "execution_count": 43,
   "id": "ff60c045-6332-4215-8256-0c7093f4fbfc",
   "metadata": {},
   "outputs": [
    {
     "data": {
      "text/html": [
       "<div>\n",
       "<style scoped>\n",
       "    .dataframe tbody tr th:only-of-type {\n",
       "        vertical-align: middle;\n",
       "    }\n",
       "\n",
       "    .dataframe tbody tr th {\n",
       "        vertical-align: top;\n",
       "    }\n",
       "\n",
       "    .dataframe thead th {\n",
       "        text-align: right;\n",
       "    }\n",
       "</style>\n",
       "<table border=\"1\" class=\"dataframe\">\n",
       "  <thead>\n",
       "    <tr style=\"text-align: right;\">\n",
       "      <th></th>\n",
       "      <th>0</th>\n",
       "      <th>1</th>\n",
       "      <th>2</th>\n",
       "      <th>3</th>\n",
       "      <th>4</th>\n",
       "    </tr>\n",
       "  </thead>\n",
       "  <tbody>\n",
       "    <tr>\n",
       "      <th>0</th>\n",
       "      <td>0.989518</td>\n",
       "      <td>0.926625</td>\n",
       "      <td>0.562731</td>\n",
       "      <td>0.047657</td>\n",
       "      <td>0.925934</td>\n",
       "    </tr>\n",
       "    <tr>\n",
       "      <th>1</th>\n",
       "      <td>0.879604</td>\n",
       "      <td>0.150567</td>\n",
       "      <td>0.676038</td>\n",
       "      <td>0.293011</td>\n",
       "      <td>0.367460</td>\n",
       "    </tr>\n",
       "    <tr>\n",
       "      <th>2</th>\n",
       "      <td>0.200450</td>\n",
       "      <td>0.935482</td>\n",
       "      <td>0.486539</td>\n",
       "      <td>0.127415</td>\n",
       "      <td>0.351954</td>\n",
       "    </tr>\n",
       "    <tr>\n",
       "      <th>3</th>\n",
       "      <td>0.787550</td>\n",
       "      <td>0.678246</td>\n",
       "      <td>0.070760</td>\n",
       "      <td>0.858292</td>\n",
       "      <td>0.436208</td>\n",
       "    </tr>\n",
       "    <tr>\n",
       "      <th>4</th>\n",
       "      <td>0.272331</td>\n",
       "      <td>0.988493</td>\n",
       "      <td>0.327276</td>\n",
       "      <td>0.108461</td>\n",
       "      <td>0.823693</td>\n",
       "    </tr>\n",
       "  </tbody>\n",
       "</table>\n",
       "</div>"
      ],
      "text/plain": [
       "          0         1         2         3         4\n",
       "0  0.989518  0.926625  0.562731  0.047657  0.925934\n",
       "1  0.879604  0.150567  0.676038  0.293011  0.367460\n",
       "2  0.200450  0.935482  0.486539  0.127415  0.351954\n",
       "3  0.787550  0.678246  0.070760  0.858292  0.436208\n",
       "4  0.272331  0.988493  0.327276  0.108461  0.823693"
      ]
     },
     "execution_count": 43,
     "metadata": {},
     "output_type": "execute_result"
    }
   ],
   "source": [
    "newdf.head()"
   ]
  },
  {
   "cell_type": "code",
   "execution_count": 48,
   "id": "ce23e1af-56cd-4ece-b2bd-457e35e13297",
   "metadata": {},
   "outputs": [
    {
     "data": {
      "text/html": [
       "<div>\n",
       "<style scoped>\n",
       "    .dataframe tbody tr th:only-of-type {\n",
       "        vertical-align: middle;\n",
       "    }\n",
       "\n",
       "    .dataframe tbody tr th {\n",
       "        vertical-align: top;\n",
       "    }\n",
       "\n",
       "    .dataframe thead th {\n",
       "        text-align: right;\n",
       "    }\n",
       "</style>\n",
       "<table border=\"1\" class=\"dataframe\">\n",
       "  <thead>\n",
       "    <tr style=\"text-align: right;\">\n",
       "      <th></th>\n",
       "      <th>0</th>\n",
       "      <th>1</th>\n",
       "      <th>2</th>\n",
       "      <th>3</th>\n",
       "      <th>4</th>\n",
       "    </tr>\n",
       "  </thead>\n",
       "  <tbody>\n",
       "    <tr>\n",
       "      <th>0</th>\n",
       "      <td>0.989518</td>\n",
       "      <td>0.926625</td>\n",
       "      <td>0.562731</td>\n",
       "      <td>0.047657</td>\n",
       "      <td>0.925934</td>\n",
       "    </tr>\n",
       "    <tr>\n",
       "      <th>1</th>\n",
       "      <td>0.879604</td>\n",
       "      <td>0.150567</td>\n",
       "      <td>0.676038</td>\n",
       "      <td>0.293011</td>\n",
       "      <td>0.367460</td>\n",
       "    </tr>\n",
       "    <tr>\n",
       "      <th>2</th>\n",
       "      <td>0.200450</td>\n",
       "      <td>0.935482</td>\n",
       "      <td>0.486539</td>\n",
       "      <td>0.127415</td>\n",
       "      <td>0.351954</td>\n",
       "    </tr>\n",
       "    <tr>\n",
       "      <th>3</th>\n",
       "      <td>0.787550</td>\n",
       "      <td>0.678246</td>\n",
       "      <td>0.070760</td>\n",
       "      <td>0.858292</td>\n",
       "      <td>0.436208</td>\n",
       "    </tr>\n",
       "    <tr>\n",
       "      <th>4</th>\n",
       "      <td>0.272331</td>\n",
       "      <td>0.988493</td>\n",
       "      <td>0.327276</td>\n",
       "      <td>0.108461</td>\n",
       "      <td>0.823693</td>\n",
       "    </tr>\n",
       "  </tbody>\n",
       "</table>\n",
       "</div>"
      ],
      "text/plain": [
       "          0         1         2         3         4\n",
       "0  0.989518  0.926625  0.562731  0.047657  0.925934\n",
       "1  0.879604  0.150567  0.676038  0.293011  0.367460\n",
       "2  0.200450  0.935482  0.486539  0.127415  0.351954\n",
       "3  0.787550  0.678246  0.070760  0.858292  0.436208\n",
       "4  0.272331  0.988493  0.327276  0.108461  0.823693"
      ]
     },
     "execution_count": 48,
     "metadata": {},
     "output_type": "execute_result"
    }
   ],
   "source": [
    "type(newdf)\n",
    "newdf.head()"
   ]
  },
  {
   "cell_type": "code",
   "execution_count": 45,
   "id": "469320af-96bf-48ed-9152-355c76a798ae",
   "metadata": {},
   "outputs": [
    {
     "data": {
      "text/html": [
       "<div>\n",
       "<style scoped>\n",
       "    .dataframe tbody tr th:only-of-type {\n",
       "        vertical-align: middle;\n",
       "    }\n",
       "\n",
       "    .dataframe tbody tr th {\n",
       "        vertical-align: top;\n",
       "    }\n",
       "\n",
       "    .dataframe thead th {\n",
       "        text-align: right;\n",
       "    }\n",
       "</style>\n",
       "<table border=\"1\" class=\"dataframe\">\n",
       "  <thead>\n",
       "    <tr style=\"text-align: right;\">\n",
       "      <th></th>\n",
       "      <th>0</th>\n",
       "      <th>1</th>\n",
       "      <th>2</th>\n",
       "      <th>3</th>\n",
       "      <th>4</th>\n",
       "    </tr>\n",
       "  </thead>\n",
       "  <tbody>\n",
       "    <tr>\n",
       "      <th>count</th>\n",
       "      <td>334.000000</td>\n",
       "      <td>334.000000</td>\n",
       "      <td>334.000000</td>\n",
       "      <td>334.000000</td>\n",
       "      <td>334.000000</td>\n",
       "    </tr>\n",
       "    <tr>\n",
       "      <th>mean</th>\n",
       "      <td>0.491817</td>\n",
       "      <td>0.500812</td>\n",
       "      <td>0.464002</td>\n",
       "      <td>0.498248</td>\n",
       "      <td>0.521132</td>\n",
       "    </tr>\n",
       "    <tr>\n",
       "      <th>std</th>\n",
       "      <td>0.294307</td>\n",
       "      <td>0.292683</td>\n",
       "      <td>0.287423</td>\n",
       "      <td>0.295675</td>\n",
       "      <td>0.269118</td>\n",
       "    </tr>\n",
       "    <tr>\n",
       "      <th>min</th>\n",
       "      <td>0.001354</td>\n",
       "      <td>0.014714</td>\n",
       "      <td>0.000674</td>\n",
       "      <td>0.001802</td>\n",
       "      <td>0.006539</td>\n",
       "    </tr>\n",
       "    <tr>\n",
       "      <th>25%</th>\n",
       "      <td>0.218733</td>\n",
       "      <td>0.240008</td>\n",
       "      <td>0.217761</td>\n",
       "      <td>0.267874</td>\n",
       "      <td>0.311144</td>\n",
       "    </tr>\n",
       "    <tr>\n",
       "      <th>50%</th>\n",
       "      <td>0.491224</td>\n",
       "      <td>0.494770</td>\n",
       "      <td>0.466406</td>\n",
       "      <td>0.492698</td>\n",
       "      <td>0.522100</td>\n",
       "    </tr>\n",
       "    <tr>\n",
       "      <th>75%</th>\n",
       "      <td>0.740546</td>\n",
       "      <td>0.747179</td>\n",
       "      <td>0.691733</td>\n",
       "      <td>0.752219</td>\n",
       "      <td>0.735054</td>\n",
       "    </tr>\n",
       "    <tr>\n",
       "      <th>max</th>\n",
       "      <td>0.994050</td>\n",
       "      <td>0.999817</td>\n",
       "      <td>0.996372</td>\n",
       "      <td>0.999608</td>\n",
       "      <td>0.991822</td>\n",
       "    </tr>\n",
       "  </tbody>\n",
       "</table>\n",
       "</div>"
      ],
      "text/plain": [
       "                0           1           2           3           4\n",
       "count  334.000000  334.000000  334.000000  334.000000  334.000000\n",
       "mean     0.491817    0.500812    0.464002    0.498248    0.521132\n",
       "std      0.294307    0.292683    0.287423    0.295675    0.269118\n",
       "min      0.001354    0.014714    0.000674    0.001802    0.006539\n",
       "25%      0.218733    0.240008    0.217761    0.267874    0.311144\n",
       "50%      0.491224    0.494770    0.466406    0.492698    0.522100\n",
       "75%      0.740546    0.747179    0.691733    0.752219    0.735054\n",
       "max      0.994050    0.999817    0.996372    0.999608    0.991822"
      ]
     },
     "execution_count": 45,
     "metadata": {},
     "output_type": "execute_result"
    }
   ],
   "source": [
    "newdf.describe()"
   ]
  },
  {
   "cell_type": "code",
   "execution_count": 46,
   "id": "7e0c55a7-217b-4eaf-b094-8c2b3c5439b3",
   "metadata": {},
   "outputs": [
    {
     "data": {
      "text/plain": [
       "0    float64\n",
       "1    float64\n",
       "2    float64\n",
       "3    float64\n",
       "4    float64\n",
       "dtype: object"
      ]
     },
     "execution_count": 46,
     "metadata": {},
     "output_type": "execute_result"
    }
   ],
   "source": [
    "newdf.dtypes   #datatypes in df"
   ]
  },
  {
   "cell_type": "code",
   "execution_count": 49,
   "id": "353ad832-5910-4b97-b157-73437b421057",
   "metadata": {},
   "outputs": [
    {
     "name": "stderr",
     "output_type": "stream",
     "text": [
      "C:\\Users\\SURESH\\AppData\\Local\\Temp\\ipykernel_10260\\4072895907.py:1: FutureWarning: Setting an item of incompatible dtype is deprecated and will raise in a future error of pandas. Value 'shreeja' has dtype incompatible with float64, please explicitly cast to a compatible dtype first.\n",
      "  newdf[0][0] = \"shreeja\"\n"
     ]
    }
   ],
   "source": [
    "newdf[0][0] = \"shreeja\""
   ]
  },
  {
   "cell_type": "code",
   "execution_count": 50,
   "id": "f562d685-1bfb-4c33-a669-6b8d1ecd7599",
   "metadata": {},
   "outputs": [
    {
     "data": {
      "text/plain": [
       "0     object\n",
       "1    float64\n",
       "2    float64\n",
       "3    float64\n",
       "4    float64\n",
       "dtype: object"
      ]
     },
     "execution_count": 50,
     "metadata": {},
     "output_type": "execute_result"
    }
   ],
   "source": [
    "newdf.dtypes"
   ]
  },
  {
   "cell_type": "code",
   "execution_count": 53,
   "id": "083d3172-9cda-4716-ac85-5349ac0ea9de",
   "metadata": {},
   "outputs": [
    {
     "data": {
      "text/html": [
       "<div>\n",
       "<style scoped>\n",
       "    .dataframe tbody tr th:only-of-type {\n",
       "        vertical-align: middle;\n",
       "    }\n",
       "\n",
       "    .dataframe tbody tr th {\n",
       "        vertical-align: top;\n",
       "    }\n",
       "\n",
       "    .dataframe thead th {\n",
       "        text-align: right;\n",
       "    }\n",
       "</style>\n",
       "<table border=\"1\" class=\"dataframe\">\n",
       "  <thead>\n",
       "    <tr style=\"text-align: right;\">\n",
       "      <th></th>\n",
       "      <th>0</th>\n",
       "      <th>1</th>\n",
       "      <th>2</th>\n",
       "      <th>3</th>\n",
       "      <th>4</th>\n",
       "    </tr>\n",
       "  </thead>\n",
       "  <tbody>\n",
       "    <tr>\n",
       "      <th>0</th>\n",
       "      <td>shreeja</td>\n",
       "      <td>0.926625</td>\n",
       "      <td>0.562731</td>\n",
       "      <td>0.047657</td>\n",
       "      <td>0.925934</td>\n",
       "    </tr>\n",
       "    <tr>\n",
       "      <th>1</th>\n",
       "      <td>0.879604</td>\n",
       "      <td>0.150567</td>\n",
       "      <td>0.676038</td>\n",
       "      <td>0.293011</td>\n",
       "      <td>0.367460</td>\n",
       "    </tr>\n",
       "    <tr>\n",
       "      <th>2</th>\n",
       "      <td>0.20045</td>\n",
       "      <td>0.935482</td>\n",
       "      <td>0.486539</td>\n",
       "      <td>0.127415</td>\n",
       "      <td>0.351954</td>\n",
       "    </tr>\n",
       "    <tr>\n",
       "      <th>3</th>\n",
       "      <td>0.78755</td>\n",
       "      <td>0.678246</td>\n",
       "      <td>0.070760</td>\n",
       "      <td>0.858292</td>\n",
       "      <td>0.436208</td>\n",
       "    </tr>\n",
       "    <tr>\n",
       "      <th>4</th>\n",
       "      <td>0.272331</td>\n",
       "      <td>0.988493</td>\n",
       "      <td>0.327276</td>\n",
       "      <td>0.108461</td>\n",
       "      <td>0.823693</td>\n",
       "    </tr>\n",
       "  </tbody>\n",
       "</table>\n",
       "</div>"
      ],
      "text/plain": [
       "          0         1         2         3         4\n",
       "0   shreeja  0.926625  0.562731  0.047657  0.925934\n",
       "1  0.879604  0.150567  0.676038  0.293011  0.367460\n",
       "2   0.20045  0.935482  0.486539  0.127415  0.351954\n",
       "3   0.78755  0.678246  0.070760  0.858292  0.436208\n",
       "4  0.272331  0.988493  0.327276  0.108461  0.823693"
      ]
     },
     "execution_count": 53,
     "metadata": {},
     "output_type": "execute_result"
    }
   ],
   "source": [
    "newdf.head()"
   ]
  },
  {
   "cell_type": "code",
   "execution_count": 56,
   "id": "dc4aa30e-9af2-47e6-aa14-6c9d8032430a",
   "metadata": {},
   "outputs": [
    {
     "data": {
      "text/plain": [
       "Index([  0,   1,   2,   3,   4,   5,   6,   7,   8,   9,\n",
       "       ...\n",
       "       324, 325, 326, 327, 328, 329, 330, 331, 332, 333],\n",
       "      dtype='int32', length=334)"
      ]
     },
     "execution_count": 56,
     "metadata": {},
     "output_type": "execute_result"
    }
   ],
   "source": [
    "newdf.index       #rows in df"
   ]
  },
  {
   "cell_type": "code",
   "execution_count": 55,
   "id": "bb2bf000-dce5-4bff-b28d-58ff10e0dd04",
   "metadata": {},
   "outputs": [
    {
     "data": {
      "text/plain": [
       "RangeIndex(start=0, stop=5, step=1)"
      ]
     },
     "execution_count": 55,
     "metadata": {},
     "output_type": "execute_result"
    }
   ],
   "source": [
    "newdf.columns         #column in df"
   ]
  },
  {
   "cell_type": "code",
   "execution_count": 57,
   "id": "fb2c1cf6-1d2e-4cf3-9960-2cb7fc1f6625",
   "metadata": {},
   "outputs": [
    {
     "data": {
      "text/plain": [
       "array([['shreeja', 0.9266254917490268, 0.5627313343562813,\n",
       "        0.047656671163891606, 0.9259343347362886],\n",
       "       [0.8796041556809322, 0.15056683181590558, 0.6760379496400541,\n",
       "        0.2930111250567716, 0.3674597287401361],\n",
       "       [0.20045011350606423, 0.935482235032856, 0.48653909803180784,\n",
       "        0.12741518870207402, 0.3519544638050519],\n",
       "       ...,\n",
       "       [0.21072453117077905, 0.7081009121828282, 0.8085605797290341,\n",
       "        0.015494432575372086, 0.011793555830080904],\n",
       "       [0.46638634427187065, 0.8566958325875402, 0.9481027882561447,\n",
       "        0.20902753481384684, 0.296817801469889],\n",
       "       [0.734858607331554, 0.8984016578228687, 0.06344636667879477,\n",
       "        0.5669078747377765, 0.4123178422737829]], dtype=object)"
      ]
     },
     "execution_count": 57,
     "metadata": {},
     "output_type": "execute_result"
    }
   ],
   "source": [
    "newdf.to_numpy()"
   ]
  },
  {
   "cell_type": "markdown",
   "id": "59d72fc0-e473-4d22-a734-0acd2ccb4ac8",
   "metadata": {},
   "source": [
    "### Transposing the dataframe "
   ]
  },
  {
   "cell_type": "code",
   "execution_count": 58,
   "id": "df711718-0990-4043-86e7-9996d25bc379",
   "metadata": {},
   "outputs": [
    {
     "data": {
      "text/html": [
       "<div>\n",
       "<style scoped>\n",
       "    .dataframe tbody tr th:only-of-type {\n",
       "        vertical-align: middle;\n",
       "    }\n",
       "\n",
       "    .dataframe tbody tr th {\n",
       "        vertical-align: top;\n",
       "    }\n",
       "\n",
       "    .dataframe thead th {\n",
       "        text-align: right;\n",
       "    }\n",
       "</style>\n",
       "<table border=\"1\" class=\"dataframe\">\n",
       "  <thead>\n",
       "    <tr style=\"text-align: right;\">\n",
       "      <th></th>\n",
       "      <th>0</th>\n",
       "      <th>1</th>\n",
       "      <th>2</th>\n",
       "      <th>3</th>\n",
       "      <th>4</th>\n",
       "      <th>5</th>\n",
       "      <th>6</th>\n",
       "      <th>7</th>\n",
       "      <th>8</th>\n",
       "      <th>9</th>\n",
       "      <th>...</th>\n",
       "      <th>324</th>\n",
       "      <th>325</th>\n",
       "      <th>326</th>\n",
       "      <th>327</th>\n",
       "      <th>328</th>\n",
       "      <th>329</th>\n",
       "      <th>330</th>\n",
       "      <th>331</th>\n",
       "      <th>332</th>\n",
       "      <th>333</th>\n",
       "    </tr>\n",
       "  </thead>\n",
       "  <tbody>\n",
       "    <tr>\n",
       "      <th>0</th>\n",
       "      <td>shreeja</td>\n",
       "      <td>0.879604</td>\n",
       "      <td>0.20045</td>\n",
       "      <td>0.78755</td>\n",
       "      <td>0.272331</td>\n",
       "      <td>0.464065</td>\n",
       "      <td>0.488756</td>\n",
       "      <td>0.948841</td>\n",
       "      <td>0.70957</td>\n",
       "      <td>0.523639</td>\n",
       "      <td>...</td>\n",
       "      <td>0.322393</td>\n",
       "      <td>0.773235</td>\n",
       "      <td>0.258789</td>\n",
       "      <td>0.526956</td>\n",
       "      <td>0.065837</td>\n",
       "      <td>0.525054</td>\n",
       "      <td>0.425634</td>\n",
       "      <td>0.210725</td>\n",
       "      <td>0.466386</td>\n",
       "      <td>0.734859</td>\n",
       "    </tr>\n",
       "    <tr>\n",
       "      <th>1</th>\n",
       "      <td>0.926625</td>\n",
       "      <td>0.150567</td>\n",
       "      <td>0.935482</td>\n",
       "      <td>0.678246</td>\n",
       "      <td>0.988493</td>\n",
       "      <td>0.680409</td>\n",
       "      <td>0.152628</td>\n",
       "      <td>0.832616</td>\n",
       "      <td>0.348346</td>\n",
       "      <td>0.340233</td>\n",
       "      <td>...</td>\n",
       "      <td>0.08383</td>\n",
       "      <td>0.283552</td>\n",
       "      <td>0.445256</td>\n",
       "      <td>0.939534</td>\n",
       "      <td>0.391498</td>\n",
       "      <td>0.247587</td>\n",
       "      <td>0.862098</td>\n",
       "      <td>0.708101</td>\n",
       "      <td>0.856696</td>\n",
       "      <td>0.898402</td>\n",
       "    </tr>\n",
       "    <tr>\n",
       "      <th>2</th>\n",
       "      <td>0.562731</td>\n",
       "      <td>0.676038</td>\n",
       "      <td>0.486539</td>\n",
       "      <td>0.07076</td>\n",
       "      <td>0.327276</td>\n",
       "      <td>0.780612</td>\n",
       "      <td>0.374634</td>\n",
       "      <td>0.904179</td>\n",
       "      <td>0.094909</td>\n",
       "      <td>0.625566</td>\n",
       "      <td>...</td>\n",
       "      <td>0.570253</td>\n",
       "      <td>0.789981</td>\n",
       "      <td>0.960114</td>\n",
       "      <td>0.961385</td>\n",
       "      <td>0.183307</td>\n",
       "      <td>0.767044</td>\n",
       "      <td>0.188668</td>\n",
       "      <td>0.808561</td>\n",
       "      <td>0.948103</td>\n",
       "      <td>0.063446</td>\n",
       "    </tr>\n",
       "    <tr>\n",
       "      <th>3</th>\n",
       "      <td>0.047657</td>\n",
       "      <td>0.293011</td>\n",
       "      <td>0.127415</td>\n",
       "      <td>0.858292</td>\n",
       "      <td>0.108461</td>\n",
       "      <td>0.403326</td>\n",
       "      <td>0.430259</td>\n",
       "      <td>0.015723</td>\n",
       "      <td>0.089396</td>\n",
       "      <td>0.440576</td>\n",
       "      <td>...</td>\n",
       "      <td>0.945819</td>\n",
       "      <td>0.303503</td>\n",
       "      <td>0.666058</td>\n",
       "      <td>0.148971</td>\n",
       "      <td>0.758901</td>\n",
       "      <td>0.007834</td>\n",
       "      <td>0.986786</td>\n",
       "      <td>0.015494</td>\n",
       "      <td>0.209028</td>\n",
       "      <td>0.566908</td>\n",
       "    </tr>\n",
       "    <tr>\n",
       "      <th>4</th>\n",
       "      <td>0.925934</td>\n",
       "      <td>0.36746</td>\n",
       "      <td>0.351954</td>\n",
       "      <td>0.436208</td>\n",
       "      <td>0.823693</td>\n",
       "      <td>0.676171</td>\n",
       "      <td>0.358971</td>\n",
       "      <td>0.247559</td>\n",
       "      <td>0.398113</td>\n",
       "      <td>0.218281</td>\n",
       "      <td>...</td>\n",
       "      <td>0.090229</td>\n",
       "      <td>0.943244</td>\n",
       "      <td>0.936395</td>\n",
       "      <td>0.255577</td>\n",
       "      <td>0.704675</td>\n",
       "      <td>0.595594</td>\n",
       "      <td>0.284202</td>\n",
       "      <td>0.011794</td>\n",
       "      <td>0.296818</td>\n",
       "      <td>0.412318</td>\n",
       "    </tr>\n",
       "  </tbody>\n",
       "</table>\n",
       "<p>5 rows × 334 columns</p>\n",
       "</div>"
      ],
      "text/plain": [
       "        0         1         2         3         4         5         6    \\\n",
       "0   shreeja  0.879604   0.20045   0.78755  0.272331  0.464065  0.488756   \n",
       "1  0.926625  0.150567  0.935482  0.678246  0.988493  0.680409  0.152628   \n",
       "2  0.562731  0.676038  0.486539   0.07076  0.327276  0.780612  0.374634   \n",
       "3  0.047657  0.293011  0.127415  0.858292  0.108461  0.403326  0.430259   \n",
       "4  0.925934   0.36746  0.351954  0.436208  0.823693  0.676171  0.358971   \n",
       "\n",
       "        7         8         9    ...       324       325       326       327  \\\n",
       "0  0.948841   0.70957  0.523639  ...  0.322393  0.773235  0.258789  0.526956   \n",
       "1  0.832616  0.348346  0.340233  ...   0.08383  0.283552  0.445256  0.939534   \n",
       "2  0.904179  0.094909  0.625566  ...  0.570253  0.789981  0.960114  0.961385   \n",
       "3  0.015723  0.089396  0.440576  ...  0.945819  0.303503  0.666058  0.148971   \n",
       "4  0.247559  0.398113  0.218281  ...  0.090229  0.943244  0.936395  0.255577   \n",
       "\n",
       "        328       329       330       331       332       333  \n",
       "0  0.065837  0.525054  0.425634  0.210725  0.466386  0.734859  \n",
       "1  0.391498  0.247587  0.862098  0.708101  0.856696  0.898402  \n",
       "2  0.183307  0.767044  0.188668  0.808561  0.948103  0.063446  \n",
       "3  0.758901  0.007834  0.986786  0.015494  0.209028  0.566908  \n",
       "4  0.704675  0.595594  0.284202  0.011794  0.296818  0.412318  \n",
       "\n",
       "[5 rows x 334 columns]"
      ]
     },
     "execution_count": 58,
     "metadata": {},
     "output_type": "execute_result"
    }
   ],
   "source": [
    "newdf.T "
   ]
  },
  {
   "cell_type": "markdown",
   "id": "5a0698e6-e53e-477c-ae13-55a4cd9a0202",
   "metadata": {},
   "source": [
    "Therefore now this df has 5 rows and 334 columns."
   ]
  },
  {
   "cell_type": "code",
   "execution_count": null,
   "id": "968e5b4a-53cb-4a0b-838f-a4ba7da52de2",
   "metadata": {},
   "outputs": [],
   "source": []
  }
 ],
 "metadata": {
  "kernelspec": {
   "display_name": "Python 3 (ipykernel)",
   "language": "python",
   "name": "python3"
  },
  "language_info": {
   "codemirror_mode": {
    "name": "ipython",
    "version": 3
   },
   "file_extension": ".py",
   "mimetype": "text/x-python",
   "name": "python",
   "nbconvert_exporter": "python",
   "pygments_lexer": "ipython3",
   "version": "3.11.7"
  }
 },
 "nbformat": 4,
 "nbformat_minor": 5
}
